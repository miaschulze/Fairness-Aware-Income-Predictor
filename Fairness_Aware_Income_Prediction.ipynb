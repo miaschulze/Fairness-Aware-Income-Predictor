{
  "nbformat": 4,
  "nbformat_minor": 0,
  "metadata": {
    "colab": {
      "provenance": []
    },
    "kernelspec": {
      "name": "python3",
      "display_name": "Python 3"
    },
    "language_info": {
      "name": "python"
    }
  },
  "cells": [
    {
      "cell_type": "code",
      "execution_count": 1,
      "metadata": {
        "colab": {
          "base_uri": "https://localhost:8080/"
        },
        "id": "0e1nFkXqM3X-",
        "outputId": "e7e3600d-c062-4077-f00b-13c2c725b130"
      },
      "outputs": [
        {
          "output_type": "stream",
          "name": "stdout",
          "text": [
            "Collecting fairlearn\n",
            "  Downloading fairlearn-0.12.0-py3-none-any.whl.metadata (7.0 kB)\n",
            "Requirement already satisfied: numpy>=1.24.4 in /usr/local/lib/python3.11/dist-packages (from fairlearn) (2.0.2)\n",
            "Requirement already satisfied: pandas>=2.0.3 in /usr/local/lib/python3.11/dist-packages (from fairlearn) (2.2.2)\n",
            "Requirement already satisfied: scikit-learn>=1.2.1 in /usr/local/lib/python3.11/dist-packages (from fairlearn) (1.6.1)\n",
            "Requirement already satisfied: scipy>=1.9.3 in /usr/local/lib/python3.11/dist-packages (from fairlearn) (1.15.3)\n",
            "Requirement already satisfied: python-dateutil>=2.8.2 in /usr/local/lib/python3.11/dist-packages (from pandas>=2.0.3->fairlearn) (2.9.0.post0)\n",
            "Requirement already satisfied: pytz>=2020.1 in /usr/local/lib/python3.11/dist-packages (from pandas>=2.0.3->fairlearn) (2025.2)\n",
            "Requirement already satisfied: tzdata>=2022.7 in /usr/local/lib/python3.11/dist-packages (from pandas>=2.0.3->fairlearn) (2025.2)\n",
            "Requirement already satisfied: joblib>=1.2.0 in /usr/local/lib/python3.11/dist-packages (from scikit-learn>=1.2.1->fairlearn) (1.5.0)\n",
            "Requirement already satisfied: threadpoolctl>=3.1.0 in /usr/local/lib/python3.11/dist-packages (from scikit-learn>=1.2.1->fairlearn) (3.6.0)\n",
            "Requirement already satisfied: six>=1.5 in /usr/local/lib/python3.11/dist-packages (from python-dateutil>=2.8.2->pandas>=2.0.3->fairlearn) (1.17.0)\n",
            "Downloading fairlearn-0.12.0-py3-none-any.whl (240 kB)\n",
            "\u001b[2K   \u001b[90m━━━━━━━━━━━━━━━━━━━━━━━━━━━━━━━━━━━━━━━━\u001b[0m \u001b[32m240.0/240.0 kB\u001b[0m \u001b[31m3.0 MB/s\u001b[0m eta \u001b[36m0:00:00\u001b[0m\n",
            "\u001b[?25hInstalling collected packages: fairlearn\n",
            "Successfully installed fairlearn-0.12.0\n",
            "Requirement already satisfied: matplotlib in /usr/local/lib/python3.11/dist-packages (3.10.0)\n",
            "Requirement already satisfied: seaborn in /usr/local/lib/python3.11/dist-packages (0.13.2)\n",
            "Requirement already satisfied: contourpy>=1.0.1 in /usr/local/lib/python3.11/dist-packages (from matplotlib) (1.3.2)\n",
            "Requirement already satisfied: cycler>=0.10 in /usr/local/lib/python3.11/dist-packages (from matplotlib) (0.12.1)\n",
            "Requirement already satisfied: fonttools>=4.22.0 in /usr/local/lib/python3.11/dist-packages (from matplotlib) (4.58.0)\n",
            "Requirement already satisfied: kiwisolver>=1.3.1 in /usr/local/lib/python3.11/dist-packages (from matplotlib) (1.4.8)\n",
            "Requirement already satisfied: numpy>=1.23 in /usr/local/lib/python3.11/dist-packages (from matplotlib) (2.0.2)\n",
            "Requirement already satisfied: packaging>=20.0 in /usr/local/lib/python3.11/dist-packages (from matplotlib) (24.2)\n",
            "Requirement already satisfied: pillow>=8 in /usr/local/lib/python3.11/dist-packages (from matplotlib) (11.2.1)\n",
            "Requirement already satisfied: pyparsing>=2.3.1 in /usr/local/lib/python3.11/dist-packages (from matplotlib) (3.2.3)\n",
            "Requirement already satisfied: python-dateutil>=2.7 in /usr/local/lib/python3.11/dist-packages (from matplotlib) (2.9.0.post0)\n",
            "Requirement already satisfied: pandas>=1.2 in /usr/local/lib/python3.11/dist-packages (from seaborn) (2.2.2)\n",
            "Requirement already satisfied: pytz>=2020.1 in /usr/local/lib/python3.11/dist-packages (from pandas>=1.2->seaborn) (2025.2)\n",
            "Requirement already satisfied: tzdata>=2022.7 in /usr/local/lib/python3.11/dist-packages (from pandas>=1.2->seaborn) (2025.2)\n",
            "Requirement already satisfied: six>=1.5 in /usr/local/lib/python3.11/dist-packages (from python-dateutil>=2.7->matplotlib) (1.17.0)\n"
          ]
        }
      ],
      "source": [
        "!pip install fairlearn\n",
        "!pip install matplotlib seaborn"
      ]
    },
    {
      "cell_type": "code",
      "source": [
        "import pandas as pd\n",
        "import numpy as np\n",
        "from sklearn.model_selection import train_test_split\n",
        "from sklearn.preprocessing import LabelEncoder, StandardScaler\n",
        "from sklearn.linear_model import LogisticRegression\n",
        "from sklearn.metrics import accuracy_score\n",
        "from fairlearn.metrics import MetricFrame, selection_rate, demographic_parity_difference\n",
        "from fairlearn.reductions import ExponentiatedGradient, DemographicParity\n",
        "import matplotlib.pyplot as plt\n",
        "import seaborn as sns"
      ],
      "metadata": {
        "id": "ZkIEZu9eNHLD"
      },
      "execution_count": 2,
      "outputs": []
    },
    {
      "cell_type": "code",
      "source": [
        "url = \"https://archive.ics.uci.edu/ml/machine-learning-databases/adult/adult.data\"\n",
        "columns = ['age', 'workclass', 'fnlwgt', 'education', 'education_num', 'marital_status',\n",
        "           'occupation', 'relationship', 'race', 'sex', 'capital_gain', 'capital_loss',\n",
        "           'hours_per_week', 'native_country', 'income']\n",
        "df = pd.read_csv(url, names=columns, na_values=' ?', skipinitialspace=True)\n",
        "\n",
        "df.dropna(inplace=True)\n",
        "\n",
        "for col in df.select_dtypes(include='object').columns:\n",
        "    df[col] = LabelEncoder().fit_transform(df[col])\n",
        "\n",
        "X = df.drop('income', axis=1)\n",
        "y = df['income']\n",
        "\n",
        "X_train, X_test, y_train, y_test = train_test_split(X, y, test_size=0.3, random_state=42)"
      ],
      "metadata": {
        "id": "QsxQXFveNpkE"
      },
      "execution_count": 3,
      "outputs": []
    },
    {
      "cell_type": "code",
      "source": [
        "clf = LogisticRegression(max_iter=1000)\n",
        "clf.fit(X_train, y_train)\n",
        "y_pred = clf.predict(X_test)\n",
        "\n",
        "print(f\"Accuracy: {accuracy_score(y_test, y_pred):.2f}\")"
      ],
      "metadata": {
        "colab": {
          "base_uri": "https://localhost:8080/"
        },
        "id": "sqL3H7XhNxVe",
        "outputId": "aa1eafa6-84bd-4164-e421-3a399b86b61f"
      },
      "execution_count": 4,
      "outputs": [
        {
          "output_type": "stream",
          "name": "stdout",
          "text": [
            "Accuracy: 0.81\n"
          ]
        },
        {
          "output_type": "stream",
          "name": "stderr",
          "text": [
            "/usr/local/lib/python3.11/dist-packages/sklearn/linear_model/_logistic.py:465: ConvergenceWarning: lbfgs failed to converge (status=1):\n",
            "STOP: TOTAL NO. OF ITERATIONS REACHED LIMIT.\n",
            "\n",
            "Increase the number of iterations (max_iter) or scale the data as shown in:\n",
            "    https://scikit-learn.org/stable/modules/preprocessing.html\n",
            "Please also refer to the documentation for alternative solver options:\n",
            "    https://scikit-learn.org/stable/modules/linear_model.html#logistic-regression\n",
            "  n_iter_i = _check_optimize_result(\n"
          ]
        }
      ]
    },
    {
      "cell_type": "code",
      "source": [
        "sensitive_feature = X_test['sex']\n",
        "\n",
        "mf = MetricFrame(\n",
        "    metrics={\"selection_rate\": selection_rate},\n",
        "    y_true = y_test,\n",
        "    y_pred = y_pred,\n",
        "    sensitive_features = sensitive_feature\n",
        ")\n",
        "\n",
        "print(\"Selection rate by group (sex):\")\n",
        "print(mf.by_group)\n",
        "\n",
        "dpd = demographic_parity_difference(y_test, y_pred, sensitive_features = sensitive_feature)\n",
        "print(f\"\\nDemographic Parity Difference: {dpd:.3f}\")"
      ],
      "metadata": {
        "colab": {
          "base_uri": "https://localhost:8080/"
        },
        "id": "Lr212mzQOFur",
        "outputId": "f8bd3d16-9110-4a9d-ca55-6bbbbc543cc5"
      },
      "execution_count": 5,
      "outputs": [
        {
          "output_type": "stream",
          "name": "stdout",
          "text": [
            "Selection rate by group (sex):\n",
            "     selection_rate\n",
            "sex                \n",
            "0          0.049413\n",
            "1          0.169652\n",
            "\n",
            "Demographic Parity Difference: 0.120\n"
          ]
        }
      ]
    },
    {
      "cell_type": "code",
      "source": [
        "sensitive_feature_train = X_train['sex']\n",
        "sensitive_feature_test = X_test['sex']\n",
        "\n",
        "estimator = LogisticRegression(solver = 'liblinear')\n",
        "\n",
        "mitigator = ExponentiatedGradient(\n",
        "    estimator,\n",
        "    constraints = DemographicParity(),\n",
        "    sample_weight_name = \"sample_weight\"\n",
        ")\n",
        "\n",
        "mitigator.fit(X_train, y_train, sensitive_features = sensitive_feature_train)\n",
        "\n",
        "y_pred_mitigated = mitigator.predict(X_test)\n",
        "\n",
        "mf_mitigated = MetricFrame(\n",
        "    metrics = {\"selection_rate\": selection_rate},\n",
        "    y_true = y_test,\n",
        "    y_pred = y_pred_mitigated,\n",
        "    sensitive_features = sensitive_feature_test\n",
        ")\n",
        "\n",
        "print(\"Mitigated selection rate by sex\")\n",
        "print(mf_mitigated.by_group)\n",
        "\n",
        "dpd_mitigated = demographic_parity_difference(\n",
        "    y_test, y_pred_mitigated, sensitive_features = sensitive_feature_test)\n",
        "print(f\"\\nDemographic Parity Difference (mitigated): {dpd_mitigated:.3f}\")"
      ],
      "metadata": {
        "colab": {
          "base_uri": "https://localhost:8080/"
        },
        "id": "i4zcgcXgO8F3",
        "outputId": "775cb8a8-75ba-4c01-8460-705a3cb6f0da"
      },
      "execution_count": 6,
      "outputs": [
        {
          "output_type": "stream",
          "name": "stdout",
          "text": [
            "Mitigated selection rate by sex\n",
            "     selection_rate\n",
            "sex                \n",
            "0          0.066399\n",
            "1          0.091257\n",
            "\n",
            "Demographic Parity Difference (mitigated): 0.025\n"
          ]
        }
      ]
    },
    {
      "cell_type": "code",
      "source": [
        "fig, ax = plt.subplots(1, 2, figsize = (14, 5))\n",
        "\n",
        "sns.barplot(x = mf.by_group.index, y = mf.by_group[\"selection_rate\"], ax = ax[0])\n",
        "ax[0].set_title(\"Before Mitigation - Selection Rate by Sex\")\n",
        "ax[0].set_ylabel(\"Selection Rate\")\n",
        "ax[0].set_xlabel(\"Sex (0 = Female, 1 = Male)\")\n",
        "\n",
        "sns.barplot(x = mf_mitigated.by_group.index, y = mf_mitigated.by_group[\"selection_rate\"], ax = ax[1])\n",
        "ax[1].set_title(\"After Mitigation - Selection Rate by Sex\")\n",
        "ax[1].set_ylabel(\"Selection Rate\")\n",
        "ax[1].set_xlabel(\"Sex (0 = Female, 1 = Male)\")\n",
        "\n",
        "plt.tight_layout()\n",
        "plt.show()"
      ],
      "metadata": {
        "colab": {
          "base_uri": "https://localhost:8080/",
          "height": 507
        },
        "id": "H95rfvvTRCRR",
        "outputId": "07ea5198-b14e-43f5-c201-84582f13d77c"
      },
      "execution_count": 17,
      "outputs": [
        {
          "output_type": "display_data",
          "data": {
            "text/plain": [
              "<Figure size 1400x500 with 2 Axes>"
            ],
            "image/png": "[encoded data removed]"
          },
          "metadata": {}
        }
      ]
    },
    {
      "cell_type": "code",
      "source": [
        "acc_before = accuracy_score(y_test, y_pred)\n",
        "acc_after = accuracy_score(y_test, y_pred_mitigated)\n",
        "\n",
        "print(f\"Accuracy before mitigation: {acc_before:.3f}\")\n",
        "print(f\"Accuracy after mitigation: {acc_after:.3f}\")"
      ],
      "metadata": {
        "colab": {
          "base_uri": "https://localhost:8080/"
        },
        "id": "uf9NuPL5STdW",
        "outputId": "f3c0a7b9-a9d2-4ddb-97bb-af4175287b22"
      },
      "execution_count": 12,
      "outputs": [
        {
          "output_type": "stream",
          "name": "stdout",
          "text": [
            "Accuracy before mitigation: 0.813\n",
            "Accuracy after mitigation: 0.798\n"
          ]
        }
      ]
    }
  ]
}